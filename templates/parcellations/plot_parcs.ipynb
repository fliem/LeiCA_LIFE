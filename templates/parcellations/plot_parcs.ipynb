{
 "cells": [
  {
   "cell_type": "code",
   "execution_count": 19,
   "metadata": {
    "collapsed": true
   },
   "outputs": [],
   "source": [
    "%matplotlib inline\n",
    "from nilearn import plotting\n",
    "import pickle\n",
    "import numpy as np"
   ]
  },
  {
   "cell_type": "code",
   "execution_count": 3,
   "metadata": {
    "collapsed": true
   },
   "outputs": [],
   "source": [
    "parcs={\n",
    "'cc_205':'craddock_2012/scorr_mean_single_resolution/scorr_mean_parc_n_21_k_205_rois.nii.gz',\n",
    "'cc_788':'craddock_2012/scorr_mean_single_resolution/scorr_mean_parc_n_43_k_788_rois.nii.gz',\n",
    "'Gordon':'Gordon_2014_Parcels/Parcels_MNI_111_sorted.nii.gz',\n",
    "'msdl_abide':'msdl_abide_2016/MSDL_ABIDE/maps.nii',\n",
    "'basc197':'basc_multiscale_2015/template_cambridge_basc_multiscale_nii_sym/template_cambridge_basc_multiscale_sym_scale197.nii.gz',\n",
    "'basc444':'basc_multiscale_2015/template_cambridge_basc_multiscale_nii_sym/template_cambridge_basc_multiscale_sym_scale444.nii.gz'}"
   ]
  },
  {
   "cell_type": "code",
   "execution_count": 4,
   "metadata": {
    "collapsed": false
   },
   "outputs": [
    {
     "name": "stdout",
     "output_type": "stream",
     "text": [
      "msdl_abide msdl_abide_2016/MSDL_ABIDE/maps.nii\n",
      "basc197 basc_multiscale_2015/template_cambridge_basc_multiscale_nii_sym/template_cambridge_basc_multiscale_sym_scale197.nii.gz\n",
      "basc444 basc_multiscale_2015/template_cambridge_basc_multiscale_nii_sym/template_cambridge_basc_multiscale_sym_scale444.nii.gz\n",
      "cc_788 craddock_2012/scorr_mean_single_resolution/scorr_mean_parc_n_43_k_788_rois.nii.gz\n",
      "Gordon Gordon_2014_Parcels/Parcels_MNI_111_sorted.nii.gz\n",
      "cc_205 craddock_2012/scorr_mean_single_resolution/scorr_mean_parc_n_21_k_205_rois.nii.gz\n"
     ]
    }
   ],
   "source": [
    "for name, file in parcs.items():\n",
    "    print name, file\n",
    "    if name == 'msdl_abide':\n",
    "        display = plotting.plot_prob_atlas(file, title=name, output_file='00_parc_figs/%s.pdf'%name)\n",
    "    else:\n",
    "        display = plotting.plot_roi(file, title=name, output_file='00_parc_figs/%s.pdf'%name)\n",
    "    #display.savefig\n",
    "    \n",
    "        \n",
    "            "
   ]
  },
  {
   "cell_type": "code",
   "execution_count": 5,
   "metadata": {
    "collapsed": true
   },
   "outputs": [],
   "source": [
    "parcs={\n",
    "'dosenbach':'coords_Dosenbach_2010/coords_Dosenbach_2010.pkl'}"
   ]
  },
  {
   "cell_type": "code",
   "execution_count": 32,
   "metadata": {
    "collapsed": false
   },
   "outputs": [],
   "source": [
    "for name, file in parcs.items():\n",
    "    with open(file) as f:\n",
    "        spheres = pickle.load(f)\n",
    "        n_rois = len(spheres['rois'])\n",
    "        plotting.plot_connectome(np.zeros((n_rois,n_rois)), spheres.rois.tolist(),\n",
    "                                output_file='00_parc_figs/%s.pdf'%name)"
   ]
  },
  {
   "cell_type": "code",
   "execution_count": 27,
   "metadata": {
    "collapsed": false
   },
   "outputs": [
    {
     "data": {
      "text/plain": [
       "[(6, 64, 3),\n",
       " (29, 57, 18),\n",
       " (-29, 57, 10),\n",
       " (0, 51, 32),\n",
       " (-25, 51, 27),\n",
       " (9, 51, 16),\n",
       " (-6, 50, -1),\n",
       " (27, 49, 26),\n",
       " (42, 48, -3),\n",
       " (-43, 47, 2),\n",
       " (-11, 45, 17),\n",
       " (39, 42, 16),\n",
       " (8, 42, -5),\n",
       " (9, 39, 20),\n",
       " (46, 39, -15),\n",
       " (40, 36, 29),\n",
       " (23, 33, 47),\n",
       " (34, 32, 7),\n",
       " (-2, 30, 27),\n",
       " (-16, 29, 54),\n",
       " (-1, 28, 40),\n",
       " (46, 28, 31),\n",
       " (-52, 28, 17),\n",
       " (-44, 27, 33),\n",
       " (51, 23, 8),\n",
       " (38, 21, -1),\n",
       " (9, 20, 34),\n",
       " (-36, 18, 2),\n",
       " (40, 17, 40),\n",
       " (-6, 17, 34),\n",
       " (0, 15, 45),\n",
       " (58, 11, 14),\n",
       " (-46, 10, 14),\n",
       " (44, 8, 34),\n",
       " (60, 8, 34),\n",
       " (-42, 7, 36),\n",
       " (-55, 7, 23),\n",
       " (-20, 6, 7),\n",
       " (14, 6, 7),\n",
       " (-48, 6, 1),\n",
       " (10, 5, 51),\n",
       " (43, 1, 12),\n",
       " (0, -1, 52),\n",
       " (37, -2, -3),\n",
       " (53, -3, 32),\n",
       " (58, -3, 17),\n",
       " (-12, -3, 13),\n",
       " (-42, -3, 11),\n",
       " (-44, -6, 49),\n",
       " (-26, -8, 54),\n",
       " (46, -8, 24),\n",
       " (-54, -9, 23),\n",
       " (44, -11, 38),\n",
       " (-47, -12, 36),\n",
       " (33, -12, 16),\n",
       " (-36, -12, 15),\n",
       " (-12, -12, 6),\n",
       " (11, -12, 6),\n",
       " (32, -12, 2),\n",
       " (59, -13, 8),\n",
       " (-30, -14, 1),\n",
       " (-38, -15, 59),\n",
       " (52, -15, -13),\n",
       " (-47, -18, 50),\n",
       " (46, -20, 45),\n",
       " (-55, -22, 38),\n",
       " (-54, -22, 22),\n",
       " (-54, -22, 9),\n",
       " (41, -23, 55),\n",
       " (42, -24, 17),\n",
       " (11, -24, 2),\n",
       " (-59, -25, -15),\n",
       " (1, -26, 31),\n",
       " (18, -27, 62),\n",
       " (-38, -27, 60),\n",
       " (-30, -28, 9),\n",
       " (-24, -30, 64),\n",
       " (51, -30, 5),\n",
       " (-41, -31, 48),\n",
       " (-4, -31, -4),\n",
       " (54, -31, -18),\n",
       " (-41, -37, 16),\n",
       " (-53, -37, 13),\n",
       " (28, -37, -15),\n",
       " (-3, -38, 45),\n",
       " (34, -39, 65),\n",
       " (8, -40, 50),\n",
       " (-41, -40, 42),\n",
       " (58, -41, 20),\n",
       " (-8, -41, 3),\n",
       " (-61, -41, -2),\n",
       " (-28, -42, -11),\n",
       " (-5, -43, 25),\n",
       " (9, -43, 25),\n",
       " (43, -43, 8),\n",
       " (54, -44, 43),\n",
       " (-55, -44, 30),\n",
       " (-28, -44, -25),\n",
       " (-35, -46, 48),\n",
       " (42, -46, 21),\n",
       " (-48, -47, 49),\n",
       " (-41, -47, 29),\n",
       " (-59, -47, 11),\n",
       " (-53, -50, 39),\n",
       " (5, -50, 33),\n",
       " (-18, -50, 1),\n",
       " (44, -52, 47),\n",
       " (-5, -52, 17),\n",
       " (-24, -54, -21),\n",
       " (-37, -54, -37),\n",
       " (10, -55, 17),\n",
       " (-6, -56, 29),\n",
       " (-34, -57, -24),\n",
       " (-32, -58, 46),\n",
       " (-11, -58, 17),\n",
       " (32, -59, 41),\n",
       " (51, -59, 34),\n",
       " (-34, -60, -5),\n",
       " (36, -60, -8),\n",
       " (-6, -60, -15),\n",
       " (-25, -60, -34),\n",
       " (32, -61, -31),\n",
       " (46, -62, 5),\n",
       " (-48, -63, 35),\n",
       " (-52, -63, 15),\n",
       " (-44, -63, -7),\n",
       " (-16, -64, -21),\n",
       " (21, -64, -22),\n",
       " (19, -66, -1),\n",
       " (1, -66, -24),\n",
       " (-34, -67, -29),\n",
       " (11, -68, 42),\n",
       " (17, -68, 20),\n",
       " (-36, -69, 40),\n",
       " (39, -71, 13),\n",
       " (-9, -72, 41),\n",
       " (45, -72, 29),\n",
       " (-11, -72, -14),\n",
       " (29, -73, 29),\n",
       " (33, -73, -30),\n",
       " (-2, -75, 32),\n",
       " (-29, -75, 28),\n",
       " (5, -75, -11),\n",
       " (14, -75, -21),\n",
       " (-16, -76, 33),\n",
       " (-42, -76, 26),\n",
       " (9, -76, 14),\n",
       " (15, -77, 32),\n",
       " (20, -78, -2),\n",
       " (-21, -79, -33),\n",
       " (-6, -79, -33),\n",
       " (-5, -80, 9),\n",
       " (29, -81, 14),\n",
       " (33, -81, -2),\n",
       " (18, -81, -33),\n",
       " (-37, -83, -2),\n",
       " (-29, -88, 8),\n",
       " (13, -91, 2),\n",
       " (27, -91, 2),\n",
       " (-4, -94, 12)]"
      ]
     },
     "execution_count": 27,
     "metadata": {},
     "output_type": "execute_result"
    }
   ],
   "source": []
  },
  {
   "cell_type": "code",
   "execution_count": 16,
   "metadata": {
    "collapsed": true
   },
   "outputs": [],
   "source": [
    "plotting.plot_connectome?"
   ]
  },
  {
   "cell_type": "code",
   "execution_count": null,
   "metadata": {
    "collapsed": true
   },
   "outputs": [],
   "source": []
  }
 ],
 "metadata": {
  "kernelspec": {
   "display_name": "Python 2",
   "language": "python",
   "name": "python2"
  },
  "language_info": {
   "codemirror_mode": {
    "name": "ipython",
    "version": 2
   },
   "file_extension": ".py",
   "mimetype": "text/x-python",
   "name": "python",
   "nbconvert_exporter": "python",
   "pygments_lexer": "ipython2",
   "version": "2.7.11"
  }
 },
 "nbformat": 4,
 "nbformat_minor": 0
}
